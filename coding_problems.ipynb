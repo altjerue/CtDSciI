{
 "cells": [
  {
   "cell_type": "markdown",
   "metadata": {},
   "source": [
    "## Interview Questions from \"Ace the Data Science Interview\"\n",
    "### Easy Problems\n",
    "#### Problem 9.1\n",
    "> Given two arrays, write a function to get the intersection of the two. For example, if `A = [1, 2, 3, 4, 5]` and `B = [0, 1, 3, 7]` then you should return `[1, 3]`."
   ]
  },
  {
   "cell_type": "code",
   "execution_count": 21,
   "metadata": {},
   "outputs": [
    {
     "name": "stdout",
     "output_type": "stream",
     "text": [
      "===== Solution =====\n",
      "351 ns ± 0.575 ns per loop (mean ± std. dev. of 7 runs, 1,000,000 loops each)\n",
      "315 ns ± 0.257 ns per loop (mean ± std. dev. of 7 runs, 1,000,000 loops each)\n",
      "298 ns ± 0.677 ns per loop (mean ± std. dev. of 7 runs, 1,000,000 loops each)\n",
      "[1, 11, 21, 31, 41, 51, 61, 71, 81, 91]\n",
      "8.62 µs ± 9.76 ns per loop (mean ± std. dev. of 7 runs, 100,000 loops each)\n",
      "===== Optimized Solution=====\n",
      "[1, 3]\n",
      "443 ns ± 4.4 ns per loop (mean ± std. dev. of 7 runs, 1,000,000 loops each)\n",
      "439 ns ± 1.23 ns per loop (mean ± std. dev. of 7 runs, 1,000,000 loops each)\n",
      "389 ns ± 1.76 ns per loop (mean ± std. dev. of 7 runs, 1,000,000 loops each)\n",
      "442 ns ± 1.41 ns per loop (mean ± std. dev. of 7 runs, 1,000,000 loops each)\n",
      "1.85 µs ± 4.18 ns per loop (mean ± std. dev. of 7 runs, 1,000,000 loops each)\n"
     ]
    }
   ],
   "source": [
    "# My solution\n",
    "print(\"===== Solution =====\")\n",
    "\n",
    "def intersection(a, b):\n",
    "    return [i for i in a if i in b]\n",
    "\n",
    "# Example\n",
    "A = [1, 2, 3, 4, 5]\n",
    "B = [0, 1, 3, 7]\n",
    "assert intersection(A, B) == [1, 3]\n",
    "%timeit intersection(A, B)\n",
    "\n",
    "# Boundary case\n",
    "assert intersection(B, A) == [1, 3]\n",
    "%timeit intersection(B, A)\n",
    "\n",
    "C = [0, 7]\n",
    "assert intersection(A, C) == []\n",
    "%timeit intersection(A, C)\n",
    "\n",
    "L = [*range(1, 101)]\n",
    "M = [*range(1, 101, 10)]\n",
    "print(intersection(L, M))\n",
    "assert intersection(L, M) == [1, 11, 21, 31, 41, 51, 61, 71, 81, 91]\n",
    "%timeit intersection(L, M)\n",
    "\n",
    "print(\"===== Optimized Solution=====\")\n",
    "def intersection2(a, b):\n",
    "    set_a = set(a)\n",
    "    set_b = set(b)\n",
    "    return sorted(set_a.intersection(set_b))\n",
    "\n",
    "print(intersection2(A, B))\n",
    "assert intersection2(A, B) == [1, 3]\n",
    "%timeit intersection2(A, B)\n",
    "\n",
    "# Boundary case\n",
    "assert intersection2(B, A) == [1, 3]\n",
    "%timeit intersection2(B, A)\n",
    "\n",
    "assert intersection2(A, C) == []\n",
    "%timeit intersection2(A, C)\n",
    "\n",
    "D = [1, 1, 3, 6, 7]\n",
    "assert intersection2(A, D) == [1, 3]\n",
    "%timeit intersection2(A, D)\n",
    "\n",
    "assert intersection2(L, M) == [1, 11, 21, 31, 41, 51, 61, 71, 81, 91]\n",
    "%timeit intersection2(L, M)"
   ]
  },
  {
   "cell_type": "markdown",
   "metadata": {},
   "source": [
    "The solution uses `set()` to instantiate "
   ]
  },
  {
   "cell_type": "code",
   "execution_count": 22,
   "metadata": {},
   "outputs": [
    {
     "name": "stdout",
     "output_type": "stream",
     "text": [
      "630 ns ± 17.1 ns per loop (mean ± std. dev. of 7 runs, 1,000,000 loops each)\n",
      "619 ns ± 5.5 ns per loop (mean ± std. dev. of 7 runs, 1,000,000 loops each)\n",
      "526 ns ± 5.55 ns per loop (mean ± std. dev. of 7 runs, 1,000,000 loops each)\n",
      "619 ns ± 0.838 ns per loop (mean ± std. dev. of 7 runs, 1,000,000 loops each)\n",
      "2.06 µs ± 5.16 ns per loop (mean ± std. dev. of 7 runs, 100,000 loops each)\n"
     ]
    }
   ],
   "source": [
    "def intersection_sol(a, b):\n",
    "    set_a = set(a)\n",
    "    set_b = set(b)\n",
    "    if len(set_a) < len(set_b):\n",
    "        return sorted([x for x in set_a if x in set_b])\n",
    "    else:\n",
    "        return sorted([x for x in set_b if x in set_a])\n",
    "\n",
    "# print(intersection2(A, B))\n",
    "assert intersection_sol(A, B) == [1, 3]\n",
    "%timeit intersection_sol(A, B)\n",
    "\n",
    "# Boundary case\n",
    "assert intersection_sol(B, A) == [1, 3]\n",
    "%timeit intersection_sol(B, A)\n",
    "\n",
    "assert intersection_sol(A, C) == []\n",
    "%timeit intersection_sol(A, C)\n",
    "\n",
    "assert intersection_sol(A, D) == [1, 3]\n",
    "%timeit intersection_sol(A, D)\n",
    "\n",
    "assert intersection_sol(L, M) == [1, 11, 21, 31, 41, 51, 61, 71, 81, 91]\n",
    "%timeit intersection_sol(L, M)"
   ]
  },
  {
   "cell_type": "markdown",
   "metadata": {},
   "source": [
    "If we compare the solution in the book, using the set intrinsic functions performs better."
   ]
  },
  {
   "cell_type": "markdown",
   "metadata": {},
   "source": [
    "#### Problem 9.5\n",
    "> Given a list of coordinates, write a function to find the $k$ closest points (measured by Euclidean distance) to the origin. For example, if $k = 3$, and the points are: `[[2, -1], [3, 2], [4, 1], [-1, -1], [-2, 2]]`, then return `[[-1, -1], [2, -1], [-2, 2]]`"
   ]
  },
  {
   "cell_type": "code",
   "execution_count": 110,
   "metadata": {},
   "outputs": [
    {
     "name": "stdout",
     "output_type": "stream",
     "text": [
      "[[-1, -1], [2, -1], [-2, 2]]\n"
     ]
    }
   ],
   "source": [
    "import math\n",
    "\n",
    "def distance(x: list) -> float:\n",
    "    return math.sqrt(x[0]**2 + x[1]**2)\n",
    "\n",
    "def closest(points: list, kth: int) -> list:\n",
    "    distances = [distance(point) for point in points]\n",
    "    d_copy = distances.copy()\n",
    "    kth_closest = []\n",
    "    for k in range(kth):\n",
    "        min_dist = min(d_copy)\n",
    "        kth_closest.append(points[distances.index(min_dist)])\n",
    "        d_copy.remove(min_dist)\n",
    "    return kth_closest\n",
    "\n",
    "a = [[2, -1], [3, 2], [4, 1], [-1, -1], [-2, 2]]\n",
    "print(closest(a, 3))"
   ]
  },
  {
   "cell_type": "markdown",
   "metadata": {},
   "source": [
    "### Medium Problems\n",
    "#### Problem 9.2\n",
    "> Given an integer array, return the maximum product of any three numbers in the array. For example, for `A = [1, 3, 4, 5]`, your should return 60, while for `B = [-2, -4, 5, 3]` you should return 40.\n",
    "\n",
    "We know from arithmetics that, for postive integers, the larger the factors are, the larger the product. We can isolate a case here for the case that the three largest numbers of the array are positive.\n",
    "\n",
    "If we have negative values, we must take into account that the only way that negative values will give us a positive number is by multiplying two negative numbers, out of the three we are calculating the product. Also, these values should be the lowest.\n"
   ]
  },
  {
   "cell_type": "code",
   "execution_count": 87,
   "metadata": {},
   "outputs": [
    {
     "name": "stdout",
     "output_type": "stream",
     "text": [
      "===== My Solution =====\n",
      "60\n",
      "40\n"
     ]
    }
   ],
   "source": [
    "# My solution\n",
    "print(\"===== My Solution =====\")\n",
    "\n",
    "def max_product(a: list) -> int:\n",
    "    max1 = max(a)\n",
    "    min1 = min(a)\n",
    "    a.remove(min1)\n",
    "    min2 = min(a)\n",
    "    if min1 < 0 and min2 < 0:\n",
    "        prod = min1 * min2 * max1\n",
    "    else:\n",
    "        a.remove(max1)\n",
    "        max2 = max(a)\n",
    "        a.remove(max2)\n",
    "        max3 = max(a)\n",
    "        prod =  max1 * max2 * max3\n",
    "    return prod\n",
    "\n",
    "A = [1, 3, 4, 5]\n",
    "print(max_product(A))\n",
    "B = [-2, -4, 5, 3]\n",
    "print(max_product(B))"
   ]
  },
  {
   "cell_type": "markdown",
   "metadata": {},
   "source": [
    "#### Problem 9.7\n",
    "> Given an array of positive integers, a peak element is greater than its neighbors. Write a function to find the index of any peak elements. For example, for `[3, 5, 2, 4, 1]`, you should return either 1 or 3 because the values at those indexes, 5 and 4, are both peak elements\n"
   ]
  },
  {
   "cell_type": "code",
   "execution_count": 96,
   "metadata": {},
   "outputs": [
    {
     "name": "stdout",
     "output_type": "stream",
     "text": [
      "===== My Solution - Problem 9.7 =====\n",
      "1\n",
      "0\n"
     ]
    }
   ],
   "source": [
    "print(\"===== My Solution - Problem 9.7 =====\")\n",
    "\n",
    "def peak_elements(a: list) -> list:\n",
    "    pe = [i for i in range(1, len(a) - 1) if (a[i] > a[i - 1]) and (a[i] > a[i + 1])]\n",
    "    if a[0] > a[1]:\n",
    "        pe.append(0)\n",
    "    if a[-1] > a[-2]:\n",
    "        pe.appen(len(a) - 1)\n",
    "    return set(pe).pop()\n",
    "\n",
    "a = [3, 5, 2, 4, 1]\n",
    "print(peak_elements(a))\n",
    "b = [5, 3, 2, 4, 1]\n",
    "print(peak_elements(b))\n"
   ]
  },
  {
   "cell_type": "code",
   "execution_count": null,
   "metadata": {},
   "outputs": [],
   "source": []
  }
 ],
 "metadata": {
  "kernelspec": {
   "display_name": "Python 3",
   "language": "python",
   "name": "python3"
  },
  "language_info": {
   "codemirror_mode": {
    "name": "ipython",
    "version": 3
   },
   "file_extension": ".py",
   "mimetype": "text/x-python",
   "name": "python",
   "nbconvert_exporter": "python",
   "pygments_lexer": "ipython3",
   "version": "3.11.5"
  }
 },
 "nbformat": 4,
 "nbformat_minor": 2
}
